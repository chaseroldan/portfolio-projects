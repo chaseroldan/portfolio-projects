{
 "cells": [
  {
   "cell_type": "code",
   "execution_count": 1,
   "metadata": {},
   "outputs": [],
   "source": [
    "import pandas as pd"
   ]
  },
  {
   "cell_type": "code",
   "execution_count": 2,
   "metadata": {},
   "outputs": [],
   "source": [
    "url = 'https://en.wikipedia.org/wiki/List_of_capitals_in_the_United_States'"
   ]
  },
  {
   "cell_type": "code",
   "execution_count": 3,
   "metadata": {},
   "outputs": [
    {
     "data": {
      "text/plain": [
       "[                             City                                Building  \\\n",
       "       Second Continental Congress             Second Continental Congress   \n",
       " 0      Philadelphia, Pennsylvania                       Independence Hall   \n",
       " 1             Baltimore, Maryland                        Henry Fite House   \n",
       " 2      Philadelphia, Pennsylvania                       Independence Hall   \n",
       " 3         Lancaster, Pennsylvania                             Court House   \n",
       " 4              York, Pennsylvania  Court House (now Colonial Court House)   \n",
       " 5      Philadelphia, Pennsylvania           College Hall[citation needed]   \n",
       " 6   Congress of the Confederation           Congress of the Confederation   \n",
       " 7      Philadelphia, Pennsylvania                       Independence Hall   \n",
       " 8        Princeton, New Jersey[a]                             Nassau Hall   \n",
       " 9             Annapolis, Maryland                    Maryland State House   \n",
       " 10            Trenton, New Jersey                      French Arms Tavern   \n",
       " 11             New York, New York                               City Hall   \n",
       " 12         United States Congress                  United States Congress   \n",
       " 13             New York, New York                            Federal Hall   \n",
       " 14     Philadelphia, Pennsylvania                           Congress Hall   \n",
       " 15           District of Columbia                   United States Capitol   \n",
       " 16               Washington, D.C.                        Blodgett's Hotel   \n",
       " 17               Washington, D.C.                       Old Brick Capitol   \n",
       " 18               Washington, D.C.                   United States Capitol   \n",
       " \n",
       "                                            Start date  \\\n",
       "                           Second Continental Congress   \n",
       " 0   July 4, 1776 (convened May 10, 1775, prior to ...   \n",
       " 1                                   December 20, 1776   \n",
       " 2                                       March 5, 1777   \n",
       " 3                                  September 27, 1777   \n",
       " 4                                  September 30, 1777   \n",
       " 5                                        July 2, 1778   \n",
       " 6                       Congress of the Confederation   \n",
       " 7                                       March 2, 1781   \n",
       " 8                                       June 30, 1783   \n",
       " 9                                   November 26, 1783   \n",
       " 10                                   November 1, 1784   \n",
       " 11                                   January 11, 1785   \n",
       " 12                             United States Congress   \n",
       " 13                                      March 4, 1789   \n",
       " 14                                   December 6, 1790   \n",
       " 15                               November 17, 1800[c]   \n",
       " 16                                 September 19, 1814   \n",
       " 17                                   December 4, 1815   \n",
       " 18                                      March 4, 1819   \n",
       " \n",
       "                          End date                         Duration  \\\n",
       "       Second Continental Congress      Second Continental Congress   \n",
       " 0               December 12, 1776              5 months and 8 days   \n",
       " 1               February 27, 1777              2 months and 7 days   \n",
       " 2              September 18, 1777             6 months and 13 days   \n",
       " 3              September 27, 1777                            1 day   \n",
       " 4                   June 27, 1778             8 months and 28 days   \n",
       " 5                   March 1, 1781    2 years, 7 months and 27 days   \n",
       " 6   Congress of the Confederation    Congress of the Confederation   \n",
       " 7                   June 21, 1783    2 years, 3 months and 19 days   \n",
       " 8                November 4, 1783              4 months and 5 days   \n",
       " 9                 August 19, 1784             8 months and 24 days   \n",
       " 10              December 24, 1784              1 month and 23 days   \n",
       " 11                October 6, 1788    3 years, 11 months and 5 days   \n",
       " 12         United States Congress           United States Congress   \n",
       " 13               December 5, 1790       1 year, 9 months and 1 day   \n",
       " 14                   May 14, 1800  9 years, 5 months and 8 days[b]   \n",
       " 15             August 24, 1814[d]    13 years, 9 months and 7 days   \n",
       " 16               December 7, 1815     1 year, 2 months and 18 days   \n",
       " 17                  March 3, 1819    3 years, 2 months and 27 days   \n",
       " 18                        Present  202 years, 7 months and 12 days   \n",
       " \n",
       "                               Ref  \n",
       "       Second Continental Congress  \n",
       " 0                            [10]  \n",
       " 1                            [11]  \n",
       " 2                            [12]  \n",
       " 3                            [12]  \n",
       " 4                            [12]  \n",
       " 5                            [13]  \n",
       " 6   Congress of the Confederation  \n",
       " 7                            [13]  \n",
       " 8                            [13]  \n",
       " 9                            [13]  \n",
       " 10                           [13]  \n",
       " 11                           [13]  \n",
       " 12         United States Congress  \n",
       " 13                           [13]  \n",
       " 14                           [13]  \n",
       " 15                           [13]  \n",
       " 16                           [15]  \n",
       " 17                           [16]  \n",
       " 18                           [17]  ,\n",
       "              State         Capital Since Area (mi2) Population (2019 est.)  \\\n",
       "              State         Capital Since Area (mi2)                 Proper   \n",
       " 0          Alabama      Montgomery  1846      159.8                 198525   \n",
       " 1           Alaska          Juneau  1906     2716.7                  32113   \n",
       " 2          Arizona         Phoenix  1912      517.6                1680992   \n",
       " 3         Arkansas     Little Rock  1821      116.2                 197312   \n",
       " 4       California      Sacramento  1854       97.9                 513624   \n",
       " 5         Colorado          Denver  1867      153.3                 727211   \n",
       " 6      Connecticut        Hartford  1875       17.3                 122105   \n",
       " 7         Delaware           Dover  1777       22.4                  38079   \n",
       " 8          Florida     Tallahassee  1824       95.7                 194500   \n",
       " 9          Georgia         Atlanta  1868      133.5                 506811   \n",
       " 10          Hawaii        Honolulu  1845       68.4                 345064   \n",
       " 11           Idaho           Boise  1865       63.8                 228959   \n",
       " 12        Illinois     Springfield  1837       54.0                 114230   \n",
       " 13         Indiana    Indianapolis  1825      361.5                 876384   \n",
       " 14            Iowa      Des Moines  1857       75.8                 214237   \n",
       " 15          Kansas          Topeka  1856       56.0                 125310   \n",
       " 16        Kentucky       Frankfort  1792       14.7                  27679   \n",
       " 17       Louisiana     Baton Rouge  1880       76.8                 220236   \n",
       " 18           Maine         Augusta  1832       55.4                  18681   \n",
       " 19        Maryland       Annapolis  1694       6.73                  39174   \n",
       " 20   Massachusetts          Boston  1630       89.6                 692600   \n",
       " 21        Michigan         Lansing  1847       35.0                 118210   \n",
       " 22       Minnesota      Saint Paul  1849       52.8                 308096   \n",
       " 23     Mississippi         Jackson  1821      104.9                 160628   \n",
       " 24        Missouri  Jefferson City  1826       27.3                  42838   \n",
       " 25         Montana          Helena  1875       14.0                  32315   \n",
       " 26        Nebraska         Lincoln  1867       74.6                 289102   \n",
       " 27          Nevada     Carson City  1861      143.4                  55916   \n",
       " 28   New Hampshire         Concord  1808       64.3                  43627   \n",
       " 29      New Jersey         Trenton  1784       7.66                  83203   \n",
       " 30      New Mexico        Santa Fe  1610       37.3                  84683   \n",
       " 31        New York          Albany  1797       21.4                  96460   \n",
       " 32  North Carolina         Raleigh  1792      114.6                 474069   \n",
       " 33    North Dakota        Bismarck  1883       26.9                  73529   \n",
       " 34            Ohio        Columbus  1816      210.3                 898553   \n",
       " 35        Oklahoma   Oklahoma City  1910      620.3                 655057   \n",
       " 36          Oregon           Salem  1855       45.7                 174365   \n",
       " 37    Pennsylvania      Harrisburg  1812       8.11                  49528   \n",
       " 38    Rhode Island      Providence  1900       18.5                 179883   \n",
       " 39  South Carolina        Columbia  1786      125.2                 131674   \n",
       " 40    South Dakota          Pierre  1889       13.0                  13646   \n",
       " 41       Tennessee       Nashville  1826      525.9                 670820   \n",
       " 42           Texas          Austin  1839      305.1                 978908   \n",
       " 43            Utah  Salt Lake City  1858      109.1                 200567   \n",
       " 44         Vermont      Montpelier  1805       10.2                   7855   \n",
       " 45        Virginia        Richmond  1780       60.1                 230436   \n",
       " 46      Washington         Olympia  1853       16.7                  46478   \n",
       " 47   West Virginia      Charleston  1885       31.6                  46536   \n",
       " 48       Wisconsin         Madison  1838       68.7                 259680   \n",
       " 49         Wyoming        Cheyenne  1869       21.1                  64235   \n",
       " 50            [18]            [18]  [18]       [18]                   [18]   \n",
       " \n",
       "                       Rank in state(city proper)  \n",
       "     MSA/µSA       CSA Rank in state(city proper)  \n",
       " 0    373290    461516                          3  \n",
       " 1     32113       NaN                          3  \n",
       " 2   4948203   5002221                          1  \n",
       " 3    742384    908941                          1  \n",
       " 4   2363730   2639124                          6  \n",
       " 5   2967239   3617927                          1  \n",
       " 6   1204877   1470083                          3  \n",
       " 7    180786   7209620                          2  \n",
       " 8    387227       NaN                          7  \n",
       " 9   6020364   6853392                          1  \n",
       " 10   974563       NaN                          1  \n",
       " 11   749202    831235                          1  \n",
       " 12   206868    306399                          6  \n",
       " 13  2074537   2457286                          1  \n",
       " 14   699292    877991                          1  \n",
       " 15   231969       NaN                          4  \n",
       " 16    73663    745033                         15  \n",
       " 17   854884       NaN                          2  \n",
       " 18   122302       NaN                          8  \n",
       " 19  2800053   9814928                          7  \n",
       " 20  4873019   8287710                          1  \n",
       " 21   550391       NaN                          5  \n",
       " 22  3654908   4027861                          2  \n",
       " 23   594806    674340                          1  \n",
       " 24   151235       NaN                         15  \n",
       " 25    77414       NaN                          6  \n",
       " 26   336374    357887                          2  \n",
       " 27    55916    637973                          6  \n",
       " 28   151391   8287710                          3  \n",
       " 29   367430  22589036                         10  \n",
       " 30   150358   1158464                          4  \n",
       " 31   880381   1167594                          6  \n",
       " 32  1390785   2079687                          2  \n",
       " 33   128949       NaN                          2  \n",
       " 34  2122271   2525639                          1  \n",
       " 35  1408950   1481542                          1  \n",
       " 36   433903   3259710                          3  \n",
       " 37   577941   1271801                          9  \n",
       " 38  1624578   8287710                          1  \n",
       " 39   838433    963048                          2  \n",
       " 40    20672       NaN                          8  \n",
       " 41  1934317   2062547                          1  \n",
       " 42  2227083       NaN                          4  \n",
       " 43  1232696   2641048                          1  \n",
       " 44    58409    278820                          6  \n",
       " 45  1291900       NaN                          4  \n",
       " 46   290536   4903675                         24  \n",
       " 47   257074    776694                          1  \n",
       " 48   664865    892661                          2  \n",
       " 49    99500       NaN                          1  \n",
       " 50     [18]      [18]                       [18]  ,\n",
       "                Insular area Abr.  Date           Capital  Pop. (2010)  \\\n",
       " 0            American Samoa   AS  1899         Pago Pago         3656   \n",
       " 1                      Guam   GU  1898           Hagåtña         1051   \n",
       " 2  Northern Mariana Islands   MP  1947            Saipan        48220   \n",
       " 3               Puerto Rico   PR  1898          San Juan       395326   \n",
       " 4       U.S. Virgin Islands   VI  1917  Charlotte Amalie        18481   \n",
       " \n",
       "                                                Notes  \n",
       " 0  Pago Pago refers to both a village and a group...  \n",
       " 1              Dededo is the area's largest village.  \n",
       " 2                                                NaN  \n",
       " 3  The oldest continuously inhabited U.S. state o...  \n",
       " 4                                                NaN  ,\n",
       "                           City                     Building  \\\n",
       "                Albany Congress              Albany Congress   \n",
       " 0             Albany, New York                   Stadt Huys   \n",
       " 1           Stamp Act Congress           Stamp Act Congress   \n",
       " 2           New York, New York                    City Hall   \n",
       " 3   First Continental Congress   First Continental Congress   \n",
       " 4   Philadelphia, Pennsylvania             Carpenters' Hall   \n",
       " 5  Second Continental Congress  Second Continental Congress   \n",
       " 6   Philadelphia, Pennsylvania            Independence Hall   \n",
       " \n",
       "                     Start date  \\\n",
       "                Albany Congress   \n",
       " 0                June 19, 1754   \n",
       " 1           Stamp Act Congress   \n",
       " 2              October 7, 1765   \n",
       " 3   First Continental Congress   \n",
       " 4            September 5, 1774   \n",
       " 5  Second Continental Congress   \n",
       " 6                 May 10, 1775   \n",
       " \n",
       "                                             End date  \\\n",
       "                                      Albany Congress   \n",
       " 0                                      July 11, 1754   \n",
       " 1                                 Stamp Act Congress   \n",
       " 2                                   October 25, 1765   \n",
       " 3                         First Continental Congress   \n",
       " 4                                   October 26, 1774   \n",
       " 5                        Second Continental Congress   \n",
       " 6  July 4, 1776 (continuing after independence un...   \n",
       " \n",
       "                       Duration                          Ref  \n",
       "                Albany Congress              Albany Congress  \n",
       " 0                      22 days                         [25]  \n",
       " 1           Stamp Act Congress           Stamp Act Congress  \n",
       " 2                      23 days                         [26]  \n",
       " 3   First Continental Congress   First Continental Congress  \n",
       " 4          1 month and 21 days                         [27]  \n",
       " 5  Second Continental Congress  Second Continental Congress  \n",
       " 6  1 year, 1 month and 24 days                         [28]  ,\n",
       "                               State        Capital  Date  \\\n",
       " 0      Alabama[32]Statehood in 1819    San Agustín  1565   \n",
       " 1      Alabama[32]Statehood in 1819       Savannah  1733   \n",
       " 2      Alabama[32]Statehood in 1819       Savannah  1755   \n",
       " 3      Alabama[32]Statehood in 1819       Savannah  1776   \n",
       " 4      Alabama[32]Statehood in 1819   Augusta (GA)  1778   \n",
       " ..                              ...            ...   ...   \n",
       " 469  Wisconsin[66]Statehood in 1848        Madison  1848   \n",
       " 470    Wyoming[67]Statehood in 1890  Lewiston (ID)  1863   \n",
       " 471    Wyoming[67]Statehood in 1890   Yankton (SD)  1864   \n",
       " 472    Wyoming[67]Statehood in 1890       Cheyenne  1869   \n",
       " 473    Wyoming[67]Statehood in 1890       Cheyenne  1890   \n",
       " \n",
       "                                                  Notes  \n",
       " 0     Capital of the Spanish colony of La Florida.[33]  \n",
       " 1    Capital of the British proprietary Colony of G...  \n",
       " 2          Capital of the British Province of Georgia.  \n",
       " 3                    Capitals of the State of Georgia.  \n",
       " 4                    Capitals of the State of Georgia.  \n",
       " ..                                                 ...  \n",
       " 469                 Capital of the State of Wisconsin.  \n",
       " 470                 Capital of the Territory of Idaho.  \n",
       " 471                Capital of the Territory of Dakota.  \n",
       " 472               Capital of the Territory of Wyoming.  \n",
       " 473                   Capital of the State of Wyoming.  \n",
       " \n",
       " [474 rows x 4 columns],\n",
       "   .mw-parser-output .navbar{display:inline;font-size:88%;font-weight:normal}.mw-parser-output .navbar-collapse{float:left;text-align:left}.mw-parser-output .navbar-boxtext{word-spacing:0}.mw-parser-output .navbar ul{display:inline-block;white-space:nowrap;line-height:inherit}.mw-parser-output .navbar-brackets::before{margin-right:-0.125em;content:\"[ \"}.mw-parser-output .navbar-brackets::after{margin-left:-0.125em;content:\" ]\"}.mw-parser-output .navbar li{word-spacing:-0.125em}.mw-parser-output .navbar-mini abbr{font-variant:small-caps;border-bottom:none;text-decoration:none;cursor:inherit}.mw-parser-output .navbar-ct-full{font-size:114%;margin:0 7em}.mw-parser-output .navbar-ct-mini{font-size:114%;margin:0 4em}.mw-parser-output .infobox .navbar{font-size:100%}.mw-parser-output .navbox .navbar{display:block;font-size:100%}.mw-parser-output .navbox-title .navbar{float:left;text-align:left;margin-right:0.5em}vteCapitals of the United States by jurisdiction  \\\n",
       " 0  .mw-parser-output .div-col{margin-top:0.3em;co...                                                                                                                                                                                                                                                                                                                                                                                                                                                                                                                                                                                                                                                                                                                                                                                                                                                                                                                                                      \n",
       " \n",
       "   .mw-parser-output .navbar{display:inline;font-size:88%;font-weight:normal}.mw-parser-output .navbar-collapse{float:left;text-align:left}.mw-parser-output .navbar-boxtext{word-spacing:0}.mw-parser-output .navbar ul{display:inline-block;white-space:nowrap;line-height:inherit}.mw-parser-output .navbar-brackets::before{margin-right:-0.125em;content:\"[ \"}.mw-parser-output .navbar-brackets::after{margin-left:-0.125em;content:\" ]\"}.mw-parser-output .navbar li{word-spacing:-0.125em}.mw-parser-output .navbar-mini abbr{font-variant:small-caps;border-bottom:none;text-decoration:none;cursor:inherit}.mw-parser-output .navbar-ct-full{font-size:114%;margin:0 7em}.mw-parser-output .navbar-ct-mini{font-size:114%;margin:0 4em}.mw-parser-output .infobox .navbar{font-size:100%}.mw-parser-output .navbox .navbar{display:block;font-size:100%}.mw-parser-output .navbox-title .navbar{float:left;text-align:left;margin-right:0.5em}vteCapitals of the United States by jurisdiction.1  \n",
       " 0  .mw-parser-output .div-col{margin-top:0.3em;co...                                                                                                                                                                                                                                                                                                                                                                                                                                                                                                                                                                                                                                                                                                                                                                                                                                                                                                                                                       ,\n",
       "                  vteUnited States state-related lists  \\\n",
       " 0   List of states and territories of the United S...   \n",
       " 1                                        Demographics   \n",
       " 2                                             Economy   \n",
       " 3                                         Environment   \n",
       " 4                                           Geography   \n",
       " 5                                          Government   \n",
       " 6                                              Health   \n",
       " 7                                             History   \n",
       " 8                                                 Law   \n",
       " 9                                       Miscellaneous   \n",
       " 10                         Category  Commons  Portals   \n",
       " \n",
       "                vteUnited States state-related lists.1  \n",
       " 0   List of states and territories of the United S...  \n",
       " 1   Population African American Amish Asian Birth ...  \n",
       " 2   Billionaires Budgets Companies Credit ratings ...  \n",
       " 3   Botanical gardens Carbon dioxide emissions Par...  \n",
       " 4   Area Bays Beaches Coastline Elevation Extreme ...  \n",
       " 5   Agriculture commissioners Attorneys general Ca...  \n",
       " 6   Fertility rates Hospitals Human Development In...  \n",
       " 7   Date of statehood Name etymologies Historical ...  \n",
       " 8   Abortion Age of consent Alcohol Dry communitie...  \n",
       " 9   Abbreviations Airports Bus transit systems Cas...  \n",
       " 10                         Category  Commons  Portals  ,\n",
       "   vteLocation of the capital of the United States  \\\n",
       " 0                              Temporary capitals   \n",
       " 1                               Permanent capital   \n",
       " \n",
       "    vteLocation of the capital of the United States.1  \n",
       " 0  Philadelphia (1776; 1777; 1778–1783; 1791–1800...  \n",
       " 1                      Washington, D.C. (since 1800)  ,\n",
       "   vteState and territorial capitol buildings in the United States  \\\n",
       " 0                                             States                \n",
       " 1                                        Territories                \n",
       " \n",
       "   vteState and territorial capitol buildings in the United States.1  \n",
       " 0  Alabama Alaska Arizona Arkansas California Col...                 \n",
       " 1  American Samoa District of Columbia Guam North...                 ]"
      ]
     },
     "execution_count": 3,
     "metadata": {},
     "output_type": "execute_result"
    }
   ],
   "source": [
    "tables = pd.read_html(url)\n",
    "tables"
   ]
  },
  {
   "cell_type": "code",
   "execution_count": 4,
   "metadata": {},
   "outputs": [
    {
     "data": {
      "text/plain": [
       "list"
      ]
     },
     "execution_count": 4,
     "metadata": {},
     "output_type": "execute_result"
    }
   ],
   "source": [
    "type(tables)"
   ]
  },
  {
   "cell_type": "code",
   "execution_count": 5,
   "metadata": {},
   "outputs": [
    {
     "data": {
      "text/html": [
       "<div>\n",
       "<style scoped>\n",
       "    .dataframe tbody tr th:only-of-type {\n",
       "        vertical-align: middle;\n",
       "    }\n",
       "\n",
       "    .dataframe tbody tr th {\n",
       "        vertical-align: top;\n",
       "    }\n",
       "\n",
       "    .dataframe thead th {\n",
       "        text-align: right;\n",
       "    }\n",
       "</style>\n",
       "<table border=\"1\" class=\"dataframe\">\n",
       "  <thead>\n",
       "    <tr style=\"text-align: right;\">\n",
       "      <th></th>\n",
       "      <th>State</th>\n",
       "      <th>Capital</th>\n",
       "      <th>Year</th>\n",
       "      <th>Area</th>\n",
       "      <th>Municipal Population</th>\n",
       "      <th>Metropolitan Population</th>\n",
       "      <th>Population Rank</th>\n",
       "      <th>Notes</th>\n",
       "    </tr>\n",
       "  </thead>\n",
       "  <tbody>\n",
       "    <tr>\n",
       "      <th>0</th>\n",
       "      <td>Alabama</td>\n",
       "      <td>Montgomery</td>\n",
       "      <td>1846</td>\n",
       "      <td>159.8</td>\n",
       "      <td>198525</td>\n",
       "      <td>373290</td>\n",
       "      <td>461516</td>\n",
       "      <td>3</td>\n",
       "    </tr>\n",
       "    <tr>\n",
       "      <th>1</th>\n",
       "      <td>Alaska</td>\n",
       "      <td>Juneau</td>\n",
       "      <td>1906</td>\n",
       "      <td>2716.7</td>\n",
       "      <td>32113</td>\n",
       "      <td>32113</td>\n",
       "      <td>NaN</td>\n",
       "      <td>3</td>\n",
       "    </tr>\n",
       "    <tr>\n",
       "      <th>2</th>\n",
       "      <td>Arizona</td>\n",
       "      <td>Phoenix</td>\n",
       "      <td>1912</td>\n",
       "      <td>517.6</td>\n",
       "      <td>1680992</td>\n",
       "      <td>4948203</td>\n",
       "      <td>5002221</td>\n",
       "      <td>1</td>\n",
       "    </tr>\n",
       "    <tr>\n",
       "      <th>3</th>\n",
       "      <td>Arkansas</td>\n",
       "      <td>Little Rock</td>\n",
       "      <td>1821</td>\n",
       "      <td>116.2</td>\n",
       "      <td>197312</td>\n",
       "      <td>742384</td>\n",
       "      <td>908941</td>\n",
       "      <td>1</td>\n",
       "    </tr>\n",
       "    <tr>\n",
       "      <th>4</th>\n",
       "      <td>California</td>\n",
       "      <td>Sacramento</td>\n",
       "      <td>1854</td>\n",
       "      <td>97.9</td>\n",
       "      <td>513624</td>\n",
       "      <td>2363730</td>\n",
       "      <td>2639124</td>\n",
       "      <td>6</td>\n",
       "    </tr>\n",
       "  </tbody>\n",
       "</table>\n",
       "</div>"
      ],
      "text/plain": [
       "        State      Capital  Year    Area Municipal Population  \\\n",
       "0     Alabama   Montgomery  1846   159.8               198525   \n",
       "1      Alaska       Juneau  1906  2716.7                32113   \n",
       "2     Arizona      Phoenix  1912   517.6              1680992   \n",
       "3    Arkansas  Little Rock  1821   116.2               197312   \n",
       "4  California   Sacramento  1854    97.9               513624   \n",
       "\n",
       "  Metropolitan Population Population Rank Notes  \n",
       "0                  373290          461516     3  \n",
       "1                   32113             NaN     3  \n",
       "2                 4948203         5002221     1  \n",
       "3                  742384          908941     1  \n",
       "4                 2363730         2639124     6  "
      ]
     },
     "execution_count": 5,
     "metadata": {},
     "output_type": "execute_result"
    }
   ],
   "source": [
    "df = tables[1]\n",
    "df.columns = [\n",
    "              'State', 'Capital',  'Year', 'Area', 'Municipal Population', \n",
    "              'Metropolitan Population', 'Population Rank', 'Notes']\n",
    "df.head()"
   ]
  },
  {
   "cell_type": "code",
   "execution_count": 6,
   "metadata": {},
   "outputs": [],
   "source": [
    "del df['Population Rank']\n",
    "del df['Notes']\n"
   ]
  },
  {
   "cell_type": "code",
   "execution_count": 7,
   "metadata": {},
   "outputs": [],
   "source": [
    "df = df.iloc[:-1 , :]"
   ]
  },
  {
   "cell_type": "code",
   "execution_count": 8,
   "metadata": {},
   "outputs": [
    {
     "data": {
      "text/html": [
       "<div>\n",
       "<style scoped>\n",
       "    .dataframe tbody tr th:only-of-type {\n",
       "        vertical-align: middle;\n",
       "    }\n",
       "\n",
       "    .dataframe tbody tr th {\n",
       "        vertical-align: top;\n",
       "    }\n",
       "\n",
       "    .dataframe thead th {\n",
       "        text-align: right;\n",
       "    }\n",
       "</style>\n",
       "<table border=\"1\" class=\"dataframe\">\n",
       "  <thead>\n",
       "    <tr style=\"text-align: right;\">\n",
       "      <th></th>\n",
       "      <th>State</th>\n",
       "      <th>Capital</th>\n",
       "      <th>Year</th>\n",
       "      <th>Area</th>\n",
       "      <th>Municipal Population</th>\n",
       "      <th>Metropolitan Population</th>\n",
       "    </tr>\n",
       "  </thead>\n",
       "  <tbody>\n",
       "    <tr>\n",
       "      <th>0</th>\n",
       "      <td>Alabama</td>\n",
       "      <td>Montgomery</td>\n",
       "      <td>1846</td>\n",
       "      <td>159.8</td>\n",
       "      <td>198525</td>\n",
       "      <td>373290</td>\n",
       "    </tr>\n",
       "    <tr>\n",
       "      <th>1</th>\n",
       "      <td>Alaska</td>\n",
       "      <td>Juneau</td>\n",
       "      <td>1906</td>\n",
       "      <td>2716.7</td>\n",
       "      <td>32113</td>\n",
       "      <td>32113</td>\n",
       "    </tr>\n",
       "    <tr>\n",
       "      <th>2</th>\n",
       "      <td>Arizona</td>\n",
       "      <td>Phoenix</td>\n",
       "      <td>1912</td>\n",
       "      <td>517.6</td>\n",
       "      <td>1680992</td>\n",
       "      <td>4948203</td>\n",
       "    </tr>\n",
       "    <tr>\n",
       "      <th>3</th>\n",
       "      <td>Arkansas</td>\n",
       "      <td>Little Rock</td>\n",
       "      <td>1821</td>\n",
       "      <td>116.2</td>\n",
       "      <td>197312</td>\n",
       "      <td>742384</td>\n",
       "    </tr>\n",
       "    <tr>\n",
       "      <th>4</th>\n",
       "      <td>California</td>\n",
       "      <td>Sacramento</td>\n",
       "      <td>1854</td>\n",
       "      <td>97.9</td>\n",
       "      <td>513624</td>\n",
       "      <td>2363730</td>\n",
       "    </tr>\n",
       "  </tbody>\n",
       "</table>\n",
       "</div>"
      ],
      "text/plain": [
       "        State      Capital  Year    Area Municipal Population  \\\n",
       "0     Alabama   Montgomery  1846   159.8               198525   \n",
       "1      Alaska       Juneau  1906  2716.7                32113   \n",
       "2     Arizona      Phoenix  1912   517.6              1680992   \n",
       "3    Arkansas  Little Rock  1821   116.2               197312   \n",
       "4  California   Sacramento  1854    97.9               513624   \n",
       "\n",
       "  Metropolitan Population  \n",
       "0                  373290  \n",
       "1                   32113  \n",
       "2                 4948203  \n",
       "3                  742384  \n",
       "4                 2363730  "
      ]
     },
     "execution_count": 8,
     "metadata": {},
     "output_type": "execute_result"
    }
   ],
   "source": [
    "df.head()"
   ]
  },
  {
   "cell_type": "code",
   "execution_count": 20,
   "metadata": {},
   "outputs": [
    {
     "name": "stdout",
     "output_type": "stream",
     "text": [
      "<class 'pandas.core.frame.DataFrame'>\n",
      "RangeIndex: 50 entries, 0 to 49\n",
      "Data columns (total 6 columns):\n",
      " #   Column                   Non-Null Count  Dtype \n",
      "---  ------                   --------------  ----- \n",
      " 0   State                    50 non-null     object\n",
      " 1   Capital                  50 non-null     object\n",
      " 2   Year                     50 non-null     object\n",
      " 3   Area                     50 non-null     object\n",
      " 4   Municipal Population     50 non-null     object\n",
      " 5   Metropolitan Population  50 non-null     object\n",
      "dtypes: object(6)\n",
      "memory usage: 2.5+ KB\n"
     ]
    }
   ],
   "source": [
    "df.info()"
   ]
  },
  {
   "cell_type": "code",
   "execution_count": 23,
   "metadata": {},
   "outputs": [
    {
     "name": "stdout",
     "output_type": "stream",
     "text": [
      "<class 'pandas.core.frame.DataFrame'>\n",
      "RangeIndex: 50 entries, 0 to 49\n",
      "Data columns (total 6 columns):\n",
      " #   Column                   Non-Null Count  Dtype  \n",
      "---  ------                   --------------  -----  \n",
      " 0   State                    50 non-null     object \n",
      " 1   Capital                  50 non-null     object \n",
      " 2   Year                     50 non-null     int64  \n",
      " 3   Area                     50 non-null     float64\n",
      " 4   Municipal Population     50 non-null     int64  \n",
      " 5   Metropolitan Population  50 non-null     int64  \n",
      "dtypes: float64(1), int64(3), object(2)\n",
      "memory usage: 2.5+ KB\n"
     ]
    },
    {
     "name": "stderr",
     "output_type": "stream",
     "text": [
      "C:\\Users\\chase\\anaconda3\\envs\\PythonData\\lib\\site-packages\\ipykernel_launcher.py:1: SettingWithCopyWarning: \n",
      "A value is trying to be set on a copy of a slice from a DataFrame.\n",
      "Try using .loc[row_indexer,col_indexer] = value instead\n",
      "\n",
      "See the caveats in the documentation: https://pandas.pydata.org/pandas-docs/stable/user_guide/indexing.html#returning-a-view-versus-a-copy\n",
      "  \"\"\"Entry point for launching an IPython kernel.\n",
      "C:\\Users\\chase\\anaconda3\\envs\\PythonData\\lib\\site-packages\\ipykernel_launcher.py:2: SettingWithCopyWarning: \n",
      "A value is trying to be set on a copy of a slice from a DataFrame.\n",
      "Try using .loc[row_indexer,col_indexer] = value instead\n",
      "\n",
      "See the caveats in the documentation: https://pandas.pydata.org/pandas-docs/stable/user_guide/indexing.html#returning-a-view-versus-a-copy\n",
      "  \n",
      "C:\\Users\\chase\\anaconda3\\envs\\PythonData\\lib\\site-packages\\ipykernel_launcher.py:3: SettingWithCopyWarning: \n",
      "A value is trying to be set on a copy of a slice from a DataFrame.\n",
      "Try using .loc[row_indexer,col_indexer] = value instead\n",
      "\n",
      "See the caveats in the documentation: https://pandas.pydata.org/pandas-docs/stable/user_guide/indexing.html#returning-a-view-versus-a-copy\n",
      "  This is separate from the ipykernel package so we can avoid doing imports until\n",
      "C:\\Users\\chase\\anaconda3\\envs\\PythonData\\lib\\site-packages\\ipykernel_launcher.py:4: SettingWithCopyWarning: \n",
      "A value is trying to be set on a copy of a slice from a DataFrame.\n",
      "Try using .loc[row_indexer,col_indexer] = value instead\n",
      "\n",
      "See the caveats in the documentation: https://pandas.pydata.org/pandas-docs/stable/user_guide/indexing.html#returning-a-view-versus-a-copy\n",
      "  after removing the cwd from sys.path.\n"
     ]
    }
   ],
   "source": [
    "df['Area'] = pd.to_numeric(df['Area'])\n",
    "df['Municipal Population'] = pd.to_numeric(df['Municipal Population'])\n",
    "df['Metropolitan Population'] = pd.to_numeric(df['Metropolitan Population'])\n",
    "df['Year'] = pd.to_numeric(df['Year'])\n",
    "df.info()"
   ]
  },
  {
   "cell_type": "code",
   "execution_count": 43,
   "metadata": {},
   "outputs": [
    {
     "data": {
      "text/html": [
       "<div>\n",
       "<style scoped>\n",
       "    .dataframe tbody tr th:only-of-type {\n",
       "        vertical-align: middle;\n",
       "    }\n",
       "\n",
       "    .dataframe tbody tr th {\n",
       "        vertical-align: top;\n",
       "    }\n",
       "\n",
       "    .dataframe thead th {\n",
       "        text-align: right;\n",
       "    }\n",
       "</style>\n",
       "<table border=\"1\" class=\"dataframe\">\n",
       "  <thead>\n",
       "    <tr style=\"text-align: right;\">\n",
       "      <th></th>\n",
       "      <th>State</th>\n",
       "      <th>Capital</th>\n",
       "      <th>Year</th>\n",
       "      <th>Area</th>\n",
       "      <th>Municipal Population</th>\n",
       "      <th>Metropolitan Population</th>\n",
       "    </tr>\n",
       "  </thead>\n",
       "  <tbody>\n",
       "    <tr>\n",
       "      <th>1</th>\n",
       "      <td>Alaska</td>\n",
       "      <td>Juneau</td>\n",
       "      <td>1906</td>\n",
       "      <td>2716.7</td>\n",
       "      <td>32113</td>\n",
       "      <td>32113</td>\n",
       "    </tr>\n",
       "    <tr>\n",
       "      <th>35</th>\n",
       "      <td>Oklahoma</td>\n",
       "      <td>Oklahoma City</td>\n",
       "      <td>1910</td>\n",
       "      <td>620.3</td>\n",
       "      <td>655057</td>\n",
       "      <td>1408950</td>\n",
       "    </tr>\n",
       "    <tr>\n",
       "      <th>41</th>\n",
       "      <td>Tennessee</td>\n",
       "      <td>Nashville</td>\n",
       "      <td>1826</td>\n",
       "      <td>525.9</td>\n",
       "      <td>670820</td>\n",
       "      <td>1934317</td>\n",
       "    </tr>\n",
       "    <tr>\n",
       "      <th>2</th>\n",
       "      <td>Arizona</td>\n",
       "      <td>Phoenix</td>\n",
       "      <td>1912</td>\n",
       "      <td>517.6</td>\n",
       "      <td>1680992</td>\n",
       "      <td>4948203</td>\n",
       "    </tr>\n",
       "    <tr>\n",
       "      <th>13</th>\n",
       "      <td>Indiana</td>\n",
       "      <td>Indianapolis</td>\n",
       "      <td>1825</td>\n",
       "      <td>361.5</td>\n",
       "      <td>876384</td>\n",
       "      <td>2074537</td>\n",
       "    </tr>\n",
       "  </tbody>\n",
       "</table>\n",
       "</div>"
      ],
      "text/plain": [
       "        State        Capital  Year    Area  Municipal Population  \\\n",
       "1      Alaska         Juneau  1906  2716.7                 32113   \n",
       "35   Oklahoma  Oklahoma City  1910   620.3                655057   \n",
       "41  Tennessee      Nashville  1826   525.9                670820   \n",
       "2     Arizona        Phoenix  1912   517.6               1680992   \n",
       "13    Indiana   Indianapolis  1825   361.5                876384   \n",
       "\n",
       "    Metropolitan Population  \n",
       "1                     32113  \n",
       "35                  1408950  \n",
       "41                  1934317  \n",
       "2                   4948203  \n",
       "13                  2074537  "
      ]
     },
     "execution_count": 43,
     "metadata": {},
     "output_type": "execute_result"
    }
   ],
   "source": [
    "largest_area = df.sort_values(by='Area', ascending=False).head(10)\n",
    "largest_area.head()"
   ]
  },
  {
   "cell_type": "code",
   "execution_count": 44,
   "metadata": {},
   "outputs": [
    {
     "data": {
      "image/png": "[encoded data removed]",
      "text/plain": [
       "<Figure size 432x288 with 1 Axes>"
      ]
     },
     "metadata": {
      "needs_background": "light"
     },
     "output_type": "display_data"
    }
   ],
   "source": [
    "largest_area_chart = largest_area.plot.bar(x='Capital', y='Area', rot=45)"
   ]
  },
  {
   "cell_type": "code",
   "execution_count": 39,
   "metadata": {},
   "outputs": [
    {
     "data": {
      "text/html": [
       "<div>\n",
       "<style scoped>\n",
       "    .dataframe tbody tr th:only-of-type {\n",
       "        vertical-align: middle;\n",
       "    }\n",
       "\n",
       "    .dataframe tbody tr th {\n",
       "        vertical-align: top;\n",
       "    }\n",
       "\n",
       "    .dataframe thead th {\n",
       "        text-align: right;\n",
       "    }\n",
       "</style>\n",
       "<table border=\"1\" class=\"dataframe\">\n",
       "  <thead>\n",
       "    <tr style=\"text-align: right;\">\n",
       "      <th></th>\n",
       "      <th>State</th>\n",
       "      <th>Capital</th>\n",
       "      <th>Year</th>\n",
       "      <th>Area</th>\n",
       "      <th>Municipal Population</th>\n",
       "      <th>Metropolitan Population</th>\n",
       "    </tr>\n",
       "  </thead>\n",
       "  <tbody>\n",
       "    <tr>\n",
       "      <th>2</th>\n",
       "      <td>Arizona</td>\n",
       "      <td>Phoenix</td>\n",
       "      <td>1912</td>\n",
       "      <td>517.6</td>\n",
       "      <td>1680992</td>\n",
       "      <td>4948203</td>\n",
       "    </tr>\n",
       "    <tr>\n",
       "      <th>42</th>\n",
       "      <td>Texas</td>\n",
       "      <td>Austin</td>\n",
       "      <td>1839</td>\n",
       "      <td>305.1</td>\n",
       "      <td>978908</td>\n",
       "      <td>2227083</td>\n",
       "    </tr>\n",
       "    <tr>\n",
       "      <th>34</th>\n",
       "      <td>Ohio</td>\n",
       "      <td>Columbus</td>\n",
       "      <td>1816</td>\n",
       "      <td>210.3</td>\n",
       "      <td>898553</td>\n",
       "      <td>2122271</td>\n",
       "    </tr>\n",
       "    <tr>\n",
       "      <th>13</th>\n",
       "      <td>Indiana</td>\n",
       "      <td>Indianapolis</td>\n",
       "      <td>1825</td>\n",
       "      <td>361.5</td>\n",
       "      <td>876384</td>\n",
       "      <td>2074537</td>\n",
       "    </tr>\n",
       "    <tr>\n",
       "      <th>5</th>\n",
       "      <td>Colorado</td>\n",
       "      <td>Denver</td>\n",
       "      <td>1867</td>\n",
       "      <td>153.3</td>\n",
       "      <td>727211</td>\n",
       "      <td>2967239</td>\n",
       "    </tr>\n",
       "  </tbody>\n",
       "</table>\n",
       "</div>"
      ],
      "text/plain": [
       "       State       Capital  Year   Area  Municipal Population  \\\n",
       "2    Arizona       Phoenix  1912  517.6               1680992   \n",
       "42     Texas        Austin  1839  305.1                978908   \n",
       "34      Ohio      Columbus  1816  210.3                898553   \n",
       "13   Indiana  Indianapolis  1825  361.5                876384   \n",
       "5   Colorado        Denver  1867  153.3                727211   \n",
       "\n",
       "    Metropolitan Population  \n",
       "2                   4948203  \n",
       "42                  2227083  \n",
       "34                  2122271  \n",
       "13                  2074537  \n",
       "5                   2967239  "
      ]
     },
     "execution_count": 39,
     "metadata": {},
     "output_type": "execute_result"
    }
   ],
   "source": [
    "largest_municipal = df.sort_values(by='Municipal Population', ascending=False).head(10)\n",
    "largest_municipal.head()"
   ]
  },
  {
   "cell_type": "code",
   "execution_count": 40,
   "metadata": {},
   "outputs": [
    {
     "data": {
      "image/png": "[encoded data removed]",
      "text/plain": [
       "<Figure size 432x288 with 1 Axes>"
      ]
     },
     "metadata": {
      "needs_background": "light"
     },
     "output_type": "display_data"
    }
   ],
   "source": [
    "largest_municipal_chart = largest_municipal.plot.bar(x='Capital', y='Municipal Population', rot=45)"
   ]
  },
  {
   "cell_type": "code",
   "execution_count": 38,
   "metadata": {},
   "outputs": [
    {
     "data": {
      "text/html": [
       "<div>\n",
       "<style scoped>\n",
       "    .dataframe tbody tr th:only-of-type {\n",
       "        vertical-align: middle;\n",
       "    }\n",
       "\n",
       "    .dataframe tbody tr th {\n",
       "        vertical-align: top;\n",
       "    }\n",
       "\n",
       "    .dataframe thead th {\n",
       "        text-align: right;\n",
       "    }\n",
       "</style>\n",
       "<table border=\"1\" class=\"dataframe\">\n",
       "  <thead>\n",
       "    <tr style=\"text-align: right;\">\n",
       "      <th></th>\n",
       "      <th>State</th>\n",
       "      <th>Capital</th>\n",
       "      <th>Year</th>\n",
       "      <th>Area</th>\n",
       "      <th>Municipal Population</th>\n",
       "      <th>Metropolitan Population</th>\n",
       "    </tr>\n",
       "  </thead>\n",
       "  <tbody>\n",
       "    <tr>\n",
       "      <th>9</th>\n",
       "      <td>Georgia</td>\n",
       "      <td>Atlanta</td>\n",
       "      <td>1868</td>\n",
       "      <td>133.5</td>\n",
       "      <td>506811</td>\n",
       "      <td>6020364</td>\n",
       "    </tr>\n",
       "    <tr>\n",
       "      <th>2</th>\n",
       "      <td>Arizona</td>\n",
       "      <td>Phoenix</td>\n",
       "      <td>1912</td>\n",
       "      <td>517.6</td>\n",
       "      <td>1680992</td>\n",
       "      <td>4948203</td>\n",
       "    </tr>\n",
       "    <tr>\n",
       "      <th>20</th>\n",
       "      <td>Massachusetts</td>\n",
       "      <td>Boston</td>\n",
       "      <td>1630</td>\n",
       "      <td>89.6</td>\n",
       "      <td>692600</td>\n",
       "      <td>4873019</td>\n",
       "    </tr>\n",
       "    <tr>\n",
       "      <th>22</th>\n",
       "      <td>Minnesota</td>\n",
       "      <td>Saint Paul</td>\n",
       "      <td>1849</td>\n",
       "      <td>52.8</td>\n",
       "      <td>308096</td>\n",
       "      <td>3654908</td>\n",
       "    </tr>\n",
       "    <tr>\n",
       "      <th>5</th>\n",
       "      <td>Colorado</td>\n",
       "      <td>Denver</td>\n",
       "      <td>1867</td>\n",
       "      <td>153.3</td>\n",
       "      <td>727211</td>\n",
       "      <td>2967239</td>\n",
       "    </tr>\n",
       "  </tbody>\n",
       "</table>\n",
       "</div>"
      ],
      "text/plain": [
       "            State     Capital  Year   Area  Municipal Population  \\\n",
       "9         Georgia     Atlanta  1868  133.5                506811   \n",
       "2         Arizona     Phoenix  1912  517.6               1680992   \n",
       "20  Massachusetts      Boston  1630   89.6                692600   \n",
       "22      Minnesota  Saint Paul  1849   52.8                308096   \n",
       "5        Colorado      Denver  1867  153.3                727211   \n",
       "\n",
       "    Metropolitan Population  \n",
       "9                   6020364  \n",
       "2                   4948203  \n",
       "20                  4873019  \n",
       "22                  3654908  \n",
       "5                   2967239  "
      ]
     },
     "execution_count": 38,
     "metadata": {},
     "output_type": "execute_result"
    }
   ],
   "source": [
    "largest_metro = df.sort_values(by='Metropolitan Population', ascending=False).head(10)\n",
    "largest_metro.head()"
   ]
  },
  {
   "cell_type": "code",
   "execution_count": 55,
   "metadata": {},
   "outputs": [
    {
     "data": {
      "image/png": "[encoded data removed]",
      "text/plain": [
       "<Figure size 1080x576 with 1 Axes>"
      ]
     },
     "metadata": {
      "needs_background": "light"
     },
     "output_type": "display_data"
    }
   ],
   "source": [
    "largest_metro_chart = largest_metro.plot.bar(x='Capital', y='Metropolitan Population', rot=25, figsize=(15, 8))\n",
    "largest_metro_chart.figure.savefig('metro.png')"
   ]
  },
  {
   "cell_type": "code",
   "execution_count": 57,
   "metadata": {},
   "outputs": [
    {
     "data": {
      "image/png": "[encoded data removed]",
      "text/plain": [
       "<Figure size 432x288 with 1 Axes>"
      ]
     },
     "metadata": {
      "needs_background": "light"
     },
     "output_type": "display_data"
    }
   ],
   "source": [
    "ax1 = df.plot.scatter(x='Area',\n",
    "                      y='Metropolitan Population',\n",
    "                      c='DarkBlue')"
   ]
  },
  {
   "cell_type": "code",
   "execution_count": 58,
   "metadata": {},
   "outputs": [
    {
     "data": {
      "image/png": "[encoded data removed]",
      "text/plain": [
       "<Figure size 432x288 with 1 Axes>"
      ]
     },
     "metadata": {
      "needs_background": "light"
     },
     "output_type": "display_data"
    }
   ],
   "source": [
    "ax1 = df.plot.scatter(x='Area',\n",
    "                      y='Municipal Population',\n",
    "                      c='DarkBlue')"
   ]
  },
  {
   "cell_type": "code",
   "execution_count": 59,
   "metadata": {},
   "outputs": [
    {
     "data": {
      "image/png": "[encoded data removed]",
      "text/plain": [
       "<Figure size 432x288 with 1 Axes>"
      ]
     },
     "metadata": {
      "needs_background": "light"
     },
     "output_type": "display_data"
    }
   ],
   "source": [
    "ax1 = df.plot.scatter(x='Metropolitan Population',\n",
    "                      y='Municipal Population',\n",
    "                      c='DarkBlue')"
   ]
  },
  {
   "cell_type": "code",
   "execution_count": 9,
   "metadata": {},
   "outputs": [
    {
     "data": {
      "text/html": [
       "<div>\n",
       "<style scoped>\n",
       "    .dataframe tbody tr th:only-of-type {\n",
       "        vertical-align: middle;\n",
       "    }\n",
       "\n",
       "    .dataframe tbody tr th {\n",
       "        vertical-align: top;\n",
       "    }\n",
       "\n",
       "    .dataframe thead th {\n",
       "        text-align: right;\n",
       "    }\n",
       "</style>\n",
       "<table border=\"1\" class=\"dataframe\">\n",
       "  <thead>\n",
       "    <tr style=\"text-align: right;\">\n",
       "      <th></th>\n",
       "      <th>State</th>\n",
       "      <th>Year</th>\n",
       "      <th>Area</th>\n",
       "      <th>Municipal Population</th>\n",
       "      <th>Metropolitan Population</th>\n",
       "    </tr>\n",
       "    <tr>\n",
       "      <th>Capital</th>\n",
       "      <th></th>\n",
       "      <th></th>\n",
       "      <th></th>\n",
       "      <th></th>\n",
       "      <th></th>\n",
       "    </tr>\n",
       "  </thead>\n",
       "  <tbody>\n",
       "    <tr>\n",
       "      <th>Montgomery</th>\n",
       "      <td>Alabama</td>\n",
       "      <td>1846</td>\n",
       "      <td>159.8</td>\n",
       "      <td>198525</td>\n",
       "      <td>373290</td>\n",
       "    </tr>\n",
       "    <tr>\n",
       "      <th>Juneau</th>\n",
       "      <td>Alaska</td>\n",
       "      <td>1906</td>\n",
       "      <td>2716.7</td>\n",
       "      <td>32113</td>\n",
       "      <td>32113</td>\n",
       "    </tr>\n",
       "    <tr>\n",
       "      <th>Phoenix</th>\n",
       "      <td>Arizona</td>\n",
       "      <td>1912</td>\n",
       "      <td>517.6</td>\n",
       "      <td>1680992</td>\n",
       "      <td>4948203</td>\n",
       "    </tr>\n",
       "    <tr>\n",
       "      <th>Little Rock</th>\n",
       "      <td>Arkansas</td>\n",
       "      <td>1821</td>\n",
       "      <td>116.2</td>\n",
       "      <td>197312</td>\n",
       "      <td>742384</td>\n",
       "    </tr>\n",
       "    <tr>\n",
       "      <th>Sacramento</th>\n",
       "      <td>California</td>\n",
       "      <td>1854</td>\n",
       "      <td>97.9</td>\n",
       "      <td>513624</td>\n",
       "      <td>2363730</td>\n",
       "    </tr>\n",
       "  </tbody>\n",
       "</table>\n",
       "</div>"
      ],
      "text/plain": [
       "                  State  Year    Area Municipal Population  \\\n",
       "Capital                                                      \n",
       "Montgomery      Alabama  1846   159.8               198525   \n",
       "Juneau           Alaska  1906  2716.7                32113   \n",
       "Phoenix         Arizona  1912   517.6              1680992   \n",
       "Little Rock    Arkansas  1821   116.2               197312   \n",
       "Sacramento   California  1854    97.9               513624   \n",
       "\n",
       "            Metropolitan Population  \n",
       "Capital                              \n",
       "Montgomery                   373290  \n",
       "Juneau                        32113  \n",
       "Phoenix                     4948203  \n",
       "Little Rock                  742384  \n",
       "Sacramento                  2363730  "
      ]
     },
     "execution_count": 9,
     "metadata": {},
     "output_type": "execute_result"
    }
   ],
   "source": [
    "df.set_index('Capital', inplace=True)\n",
    "df.head()"
   ]
  },
  {
   "cell_type": "code",
   "execution_count": 10,
   "metadata": {},
   "outputs": [
    {
     "data": {
      "text/plain": [
       "State                      Arizona\n",
       "Year                          1912\n",
       "Area                         517.6\n",
       "Municipal Population       1680992\n",
       "Metropolitan Population    4948203\n",
       "Name: Phoenix, dtype: object"
      ]
     },
     "execution_count": 10,
     "metadata": {},
     "output_type": "execute_result"
    }
   ],
   "source": [
    "df.loc['Phoenix']"
   ]
  },
  {
   "cell_type": "code",
   "execution_count": 11,
   "metadata": {},
   "outputs": [
    {
     "data": {
      "text/plain": [
       "'<table border=\"1\" class=\"dataframe\">\\n  <thead>\\n    <tr style=\"text-align: right;\">\\n      <th></th>\\n      <th>State</th>\\n      <th>Year</th>\\n      <th>Area</th>\\n      <th>Municipal Population</th>\\n      <th>Metropolitan Population</th>\\n    </tr>\\n    <tr>\\n      <th>Capital</th>\\n      <th></th>\\n      <th></th>\\n      <th></th>\\n      <th></th>\\n      <th></th>\\n    </tr>\\n  </thead>\\n  <tbody>\\n    <tr>\\n      <th>Montgomery</th>\\n      <td>Alabama</td>\\n      <td>1846</td>\\n      <td>159.8</td>\\n      <td>198525</td>\\n      <td>373290</td>\\n    </tr>\\n    <tr>\\n      <th>Juneau</th>\\n      <td>Alaska</td>\\n      <td>1906</td>\\n      <td>2716.7</td>\\n      <td>32113</td>\\n      <td>32113</td>\\n    </tr>\\n    <tr>\\n      <th>Phoenix</th>\\n      <td>Arizona</td>\\n      <td>1912</td>\\n      <td>517.6</td>\\n      <td>1680992</td>\\n      <td>4948203</td>\\n    </tr>\\n    <tr>\\n      <th>Little Rock</th>\\n      <td>Arkansas</td>\\n      <td>1821</td>\\n      <td>116.2</td>\\n      <td>197312</td>\\n      <td>742384</td>\\n    </tr>\\n    <tr>\\n      <th>Sacramento</th>\\n      <td>California</td>\\n      <td>1854</td>\\n      <td>97.9</td>\\n      <td>513624</td>\\n      <td>2363730</td>\\n    </tr>\\n    <tr>\\n      <th>Denver</th>\\n      <td>Colorado</td>\\n      <td>1867</td>\\n      <td>153.3</td>\\n      <td>727211</td>\\n      <td>2967239</td>\\n    </tr>\\n    <tr>\\n      <th>Hartford</th>\\n      <td>Connecticut</td>\\n      <td>1875</td>\\n      <td>17.3</td>\\n      <td>122105</td>\\n      <td>1204877</td>\\n    </tr>\\n    <tr>\\n      <th>Dover</th>\\n      <td>Delaware</td>\\n      <td>1777</td>\\n      <td>22.4</td>\\n      <td>38079</td>\\n      <td>180786</td>\\n    </tr>\\n    <tr>\\n      <th>Tallahassee</th>\\n      <td>Florida</td>\\n      <td>1824</td>\\n      <td>95.7</td>\\n      <td>194500</td>\\n      <td>387227</td>\\n    </tr>\\n    <tr>\\n      <th>Atlanta</th>\\n      <td>Georgia</td>\\n      <td>1868</td>\\n      <td>133.5</td>\\n      <td>506811</td>\\n      <td>6020364</td>\\n    </tr>\\n    <tr>\\n      <th>Honolulu</th>\\n      <td>Hawaii</td>\\n      <td>1845</td>\\n      <td>68.4</td>\\n      <td>345064</td>\\n      <td>974563</td>\\n    </tr>\\n    <tr>\\n      <th>Boise</th>\\n      <td>Idaho</td>\\n      <td>1865</td>\\n      <td>63.8</td>\\n      <td>228959</td>\\n      <td>749202</td>\\n    </tr>\\n    <tr>\\n      <th>Springfield</th>\\n      <td>Illinois</td>\\n      <td>1837</td>\\n      <td>54.0</td>\\n      <td>114230</td>\\n      <td>206868</td>\\n    </tr>\\n    <tr>\\n      <th>Indianapolis</th>\\n      <td>Indiana</td>\\n      <td>1825</td>\\n      <td>361.5</td>\\n      <td>876384</td>\\n      <td>2074537</td>\\n    </tr>\\n    <tr>\\n      <th>Des Moines</th>\\n      <td>Iowa</td>\\n      <td>1857</td>\\n      <td>75.8</td>\\n      <td>214237</td>\\n      <td>699292</td>\\n    </tr>\\n    <tr>\\n      <th>Topeka</th>\\n      <td>Kansas</td>\\n      <td>1856</td>\\n      <td>56.0</td>\\n      <td>125310</td>\\n      <td>231969</td>\\n    </tr>\\n    <tr>\\n      <th>Frankfort</th>\\n      <td>Kentucky</td>\\n      <td>1792</td>\\n      <td>14.7</td>\\n      <td>27679</td>\\n      <td>73663</td>\\n    </tr>\\n    <tr>\\n      <th>Baton Rouge</th>\\n      <td>Louisiana</td>\\n      <td>1880</td>\\n      <td>76.8</td>\\n      <td>220236</td>\\n      <td>854884</td>\\n    </tr>\\n    <tr>\\n      <th>Augusta</th>\\n      <td>Maine</td>\\n      <td>1832</td>\\n      <td>55.4</td>\\n      <td>18681</td>\\n      <td>122302</td>\\n    </tr>\\n    <tr>\\n      <th>Annapolis</th>\\n      <td>Maryland</td>\\n      <td>1694</td>\\n      <td>6.73</td>\\n      <td>39174</td>\\n      <td>2800053</td>\\n    </tr>\\n    <tr>\\n      <th>Boston</th>\\n      <td>Massachusetts</td>\\n      <td>1630</td>\\n      <td>89.6</td>\\n      <td>692600</td>\\n      <td>4873019</td>\\n    </tr>\\n    <tr>\\n      <th>Lansing</th>\\n      <td>Michigan</td>\\n      <td>1847</td>\\n      <td>35.0</td>\\n      <td>118210</td>\\n      <td>550391</td>\\n    </tr>\\n    <tr>\\n      <th>Saint Paul</th>\\n      <td>Minnesota</td>\\n      <td>1849</td>\\n      <td>52.8</td>\\n      <td>308096</td>\\n      <td>3654908</td>\\n    </tr>\\n    <tr>\\n      <th>Jackson</th>\\n      <td>Mississippi</td>\\n      <td>1821</td>\\n      <td>104.9</td>\\n      <td>160628</td>\\n      <td>594806</td>\\n    </tr>\\n    <tr>\\n      <th>Jefferson City</th>\\n      <td>Missouri</td>\\n      <td>1826</td>\\n      <td>27.3</td>\\n      <td>42838</td>\\n      <td>151235</td>\\n    </tr>\\n    <tr>\\n      <th>Helena</th>\\n      <td>Montana</td>\\n      <td>1875</td>\\n      <td>14.0</td>\\n      <td>32315</td>\\n      <td>77414</td>\\n    </tr>\\n    <tr>\\n      <th>Lincoln</th>\\n      <td>Nebraska</td>\\n      <td>1867</td>\\n      <td>74.6</td>\\n      <td>289102</td>\\n      <td>336374</td>\\n    </tr>\\n    <tr>\\n      <th>Carson City</th>\\n      <td>Nevada</td>\\n      <td>1861</td>\\n      <td>143.4</td>\\n      <td>55916</td>\\n      <td>55916</td>\\n    </tr>\\n    <tr>\\n      <th>Concord</th>\\n      <td>New Hampshire</td>\\n      <td>1808</td>\\n      <td>64.3</td>\\n      <td>43627</td>\\n      <td>151391</td>\\n    </tr>\\n    <tr>\\n      <th>Trenton</th>\\n      <td>New Jersey</td>\\n      <td>1784</td>\\n      <td>7.66</td>\\n      <td>83203</td>\\n      <td>367430</td>\\n    </tr>\\n    <tr>\\n      <th>Santa Fe</th>\\n      <td>New Mexico</td>\\n      <td>1610</td>\\n      <td>37.3</td>\\n      <td>84683</td>\\n      <td>150358</td>\\n    </tr>\\n    <tr>\\n      <th>Albany</th>\\n      <td>New York</td>\\n      <td>1797</td>\\n      <td>21.4</td>\\n      <td>96460</td>\\n      <td>880381</td>\\n    </tr>\\n    <tr>\\n      <th>Raleigh</th>\\n      <td>North Carolina</td>\\n      <td>1792</td>\\n      <td>114.6</td>\\n      <td>474069</td>\\n      <td>1390785</td>\\n    </tr>\\n    <tr>\\n      <th>Bismarck</th>\\n      <td>North Dakota</td>\\n      <td>1883</td>\\n      <td>26.9</td>\\n      <td>73529</td>\\n      <td>128949</td>\\n    </tr>\\n    <tr>\\n      <th>Columbus</th>\\n      <td>Ohio</td>\\n      <td>1816</td>\\n      <td>210.3</td>\\n      <td>898553</td>\\n      <td>2122271</td>\\n    </tr>\\n    <tr>\\n      <th>Oklahoma City</th>\\n      <td>Oklahoma</td>\\n      <td>1910</td>\\n      <td>620.3</td>\\n      <td>655057</td>\\n      <td>1408950</td>\\n    </tr>\\n    <tr>\\n      <th>Salem</th>\\n      <td>Oregon</td>\\n      <td>1855</td>\\n      <td>45.7</td>\\n      <td>174365</td>\\n      <td>433903</td>\\n    </tr>\\n    <tr>\\n      <th>Harrisburg</th>\\n      <td>Pennsylvania</td>\\n      <td>1812</td>\\n      <td>8.11</td>\\n      <td>49528</td>\\n      <td>577941</td>\\n    </tr>\\n    <tr>\\n      <th>Providence</th>\\n      <td>Rhode Island</td>\\n      <td>1900</td>\\n      <td>18.5</td>\\n      <td>179883</td>\\n      <td>1624578</td>\\n    </tr>\\n    <tr>\\n      <th>Columbia</th>\\n      <td>South Carolina</td>\\n      <td>1786</td>\\n      <td>125.2</td>\\n      <td>131674</td>\\n      <td>838433</td>\\n    </tr>\\n    <tr>\\n      <th>Pierre</th>\\n      <td>South Dakota</td>\\n      <td>1889</td>\\n      <td>13.0</td>\\n      <td>13646</td>\\n      <td>20672</td>\\n    </tr>\\n    <tr>\\n      <th>Nashville</th>\\n      <td>Tennessee</td>\\n      <td>1826</td>\\n      <td>525.9</td>\\n      <td>670820</td>\\n      <td>1934317</td>\\n    </tr>\\n    <tr>\\n      <th>Austin</th>\\n      <td>Texas</td>\\n      <td>1839</td>\\n      <td>305.1</td>\\n      <td>978908</td>\\n      <td>2227083</td>\\n    </tr>\\n    <tr>\\n      <th>Salt Lake City</th>\\n      <td>Utah</td>\\n      <td>1858</td>\\n      <td>109.1</td>\\n      <td>200567</td>\\n      <td>1232696</td>\\n    </tr>\\n    <tr>\\n      <th>Montpelier</th>\\n      <td>Vermont</td>\\n      <td>1805</td>\\n      <td>10.2</td>\\n      <td>7855</td>\\n      <td>58409</td>\\n    </tr>\\n    <tr>\\n      <th>Richmond</th>\\n      <td>Virginia</td>\\n      <td>1780</td>\\n      <td>60.1</td>\\n      <td>230436</td>\\n      <td>1291900</td>\\n    </tr>\\n    <tr>\\n      <th>Olympia</th>\\n      <td>Washington</td>\\n      <td>1853</td>\\n      <td>16.7</td>\\n      <td>46478</td>\\n      <td>290536</td>\\n    </tr>\\n    <tr>\\n      <th>Charleston</th>\\n      <td>West Virginia</td>\\n      <td>1885</td>\\n      <td>31.6</td>\\n      <td>46536</td>\\n      <td>257074</td>\\n    </tr>\\n    <tr>\\n      <th>Madison</th>\\n      <td>Wisconsin</td>\\n      <td>1838</td>\\n      <td>68.7</td>\\n      <td>259680</td>\\n      <td>664865</td>\\n    </tr>\\n    <tr>\\n      <th>Cheyenne</th>\\n      <td>Wyoming</td>\\n      <td>1869</td>\\n      <td>21.1</td>\\n      <td>64235</td>\\n      <td>99500</td>\\n    </tr>\\n  </tbody>\\n</table>'"
      ]
     },
     "execution_count": 11,
     "metadata": {},
     "output_type": "execute_result"
    }
   ],
   "source": [
    "html_table = df.to_html()\n",
    "html_table"
   ]
  },
  {
   "cell_type": "code",
   "execution_count": 12,
   "metadata": {},
   "outputs": [
    {
     "data": {
      "text/plain": [
       "'<table border=\"1\" class=\"dataframe\">  <thead>    <tr style=\"text-align: right;\">      <th></th>      <th>State</th>      <th>Year</th>      <th>Area</th>      <th>Municipal Population</th>      <th>Metropolitan Population</th>    </tr>    <tr>      <th>Capital</th>      <th></th>      <th></th>      <th></th>      <th></th>      <th></th>    </tr>  </thead>  <tbody>    <tr>      <th>Montgomery</th>      <td>Alabama</td>      <td>1846</td>      <td>159.8</td>      <td>198525</td>      <td>373290</td>    </tr>    <tr>      <th>Juneau</th>      <td>Alaska</td>      <td>1906</td>      <td>2716.7</td>      <td>32113</td>      <td>32113</td>    </tr>    <tr>      <th>Phoenix</th>      <td>Arizona</td>      <td>1912</td>      <td>517.6</td>      <td>1680992</td>      <td>4948203</td>    </tr>    <tr>      <th>Little Rock</th>      <td>Arkansas</td>      <td>1821</td>      <td>116.2</td>      <td>197312</td>      <td>742384</td>    </tr>    <tr>      <th>Sacramento</th>      <td>California</td>      <td>1854</td>      <td>97.9</td>      <td>513624</td>      <td>2363730</td>    </tr>    <tr>      <th>Denver</th>      <td>Colorado</td>      <td>1867</td>      <td>153.3</td>      <td>727211</td>      <td>2967239</td>    </tr>    <tr>      <th>Hartford</th>      <td>Connecticut</td>      <td>1875</td>      <td>17.3</td>      <td>122105</td>      <td>1204877</td>    </tr>    <tr>      <th>Dover</th>      <td>Delaware</td>      <td>1777</td>      <td>22.4</td>      <td>38079</td>      <td>180786</td>    </tr>    <tr>      <th>Tallahassee</th>      <td>Florida</td>      <td>1824</td>      <td>95.7</td>      <td>194500</td>      <td>387227</td>    </tr>    <tr>      <th>Atlanta</th>      <td>Georgia</td>      <td>1868</td>      <td>133.5</td>      <td>506811</td>      <td>6020364</td>    </tr>    <tr>      <th>Honolulu</th>      <td>Hawaii</td>      <td>1845</td>      <td>68.4</td>      <td>345064</td>      <td>974563</td>    </tr>    <tr>      <th>Boise</th>      <td>Idaho</td>      <td>1865</td>      <td>63.8</td>      <td>228959</td>      <td>749202</td>    </tr>    <tr>      <th>Springfield</th>      <td>Illinois</td>      <td>1837</td>      <td>54.0</td>      <td>114230</td>      <td>206868</td>    </tr>    <tr>      <th>Indianapolis</th>      <td>Indiana</td>      <td>1825</td>      <td>361.5</td>      <td>876384</td>      <td>2074537</td>    </tr>    <tr>      <th>Des Moines</th>      <td>Iowa</td>      <td>1857</td>      <td>75.8</td>      <td>214237</td>      <td>699292</td>    </tr>    <tr>      <th>Topeka</th>      <td>Kansas</td>      <td>1856</td>      <td>56.0</td>      <td>125310</td>      <td>231969</td>    </tr>    <tr>      <th>Frankfort</th>      <td>Kentucky</td>      <td>1792</td>      <td>14.7</td>      <td>27679</td>      <td>73663</td>    </tr>    <tr>      <th>Baton Rouge</th>      <td>Louisiana</td>      <td>1880</td>      <td>76.8</td>      <td>220236</td>      <td>854884</td>    </tr>    <tr>      <th>Augusta</th>      <td>Maine</td>      <td>1832</td>      <td>55.4</td>      <td>18681</td>      <td>122302</td>    </tr>    <tr>      <th>Annapolis</th>      <td>Maryland</td>      <td>1694</td>      <td>6.73</td>      <td>39174</td>      <td>2800053</td>    </tr>    <tr>      <th>Boston</th>      <td>Massachusetts</td>      <td>1630</td>      <td>89.6</td>      <td>692600</td>      <td>4873019</td>    </tr>    <tr>      <th>Lansing</th>      <td>Michigan</td>      <td>1847</td>      <td>35.0</td>      <td>118210</td>      <td>550391</td>    </tr>    <tr>      <th>Saint Paul</th>      <td>Minnesota</td>      <td>1849</td>      <td>52.8</td>      <td>308096</td>      <td>3654908</td>    </tr>    <tr>      <th>Jackson</th>      <td>Mississippi</td>      <td>1821</td>      <td>104.9</td>      <td>160628</td>      <td>594806</td>    </tr>    <tr>      <th>Jefferson City</th>      <td>Missouri</td>      <td>1826</td>      <td>27.3</td>      <td>42838</td>      <td>151235</td>    </tr>    <tr>      <th>Helena</th>      <td>Montana</td>      <td>1875</td>      <td>14.0</td>      <td>32315</td>      <td>77414</td>    </tr>    <tr>      <th>Lincoln</th>      <td>Nebraska</td>      <td>1867</td>      <td>74.6</td>      <td>289102</td>      <td>336374</td>    </tr>    <tr>      <th>Carson City</th>      <td>Nevada</td>      <td>1861</td>      <td>143.4</td>      <td>55916</td>      <td>55916</td>    </tr>    <tr>      <th>Concord</th>      <td>New Hampshire</td>      <td>1808</td>      <td>64.3</td>      <td>43627</td>      <td>151391</td>    </tr>    <tr>      <th>Trenton</th>      <td>New Jersey</td>      <td>1784</td>      <td>7.66</td>      <td>83203</td>      <td>367430</td>    </tr>    <tr>      <th>Santa Fe</th>      <td>New Mexico</td>      <td>1610</td>      <td>37.3</td>      <td>84683</td>      <td>150358</td>    </tr>    <tr>      <th>Albany</th>      <td>New York</td>      <td>1797</td>      <td>21.4</td>      <td>96460</td>      <td>880381</td>    </tr>    <tr>      <th>Raleigh</th>      <td>North Carolina</td>      <td>1792</td>      <td>114.6</td>      <td>474069</td>      <td>1390785</td>    </tr>    <tr>      <th>Bismarck</th>      <td>North Dakota</td>      <td>1883</td>      <td>26.9</td>      <td>73529</td>      <td>128949</td>    </tr>    <tr>      <th>Columbus</th>      <td>Ohio</td>      <td>1816</td>      <td>210.3</td>      <td>898553</td>      <td>2122271</td>    </tr>    <tr>      <th>Oklahoma City</th>      <td>Oklahoma</td>      <td>1910</td>      <td>620.3</td>      <td>655057</td>      <td>1408950</td>    </tr>    <tr>      <th>Salem</th>      <td>Oregon</td>      <td>1855</td>      <td>45.7</td>      <td>174365</td>      <td>433903</td>    </tr>    <tr>      <th>Harrisburg</th>      <td>Pennsylvania</td>      <td>1812</td>      <td>8.11</td>      <td>49528</td>      <td>577941</td>    </tr>    <tr>      <th>Providence</th>      <td>Rhode Island</td>      <td>1900</td>      <td>18.5</td>      <td>179883</td>      <td>1624578</td>    </tr>    <tr>      <th>Columbia</th>      <td>South Carolina</td>      <td>1786</td>      <td>125.2</td>      <td>131674</td>      <td>838433</td>    </tr>    <tr>      <th>Pierre</th>      <td>South Dakota</td>      <td>1889</td>      <td>13.0</td>      <td>13646</td>      <td>20672</td>    </tr>    <tr>      <th>Nashville</th>      <td>Tennessee</td>      <td>1826</td>      <td>525.9</td>      <td>670820</td>      <td>1934317</td>    </tr>    <tr>      <th>Austin</th>      <td>Texas</td>      <td>1839</td>      <td>305.1</td>      <td>978908</td>      <td>2227083</td>    </tr>    <tr>      <th>Salt Lake City</th>      <td>Utah</td>      <td>1858</td>      <td>109.1</td>      <td>200567</td>      <td>1232696</td>    </tr>    <tr>      <th>Montpelier</th>      <td>Vermont</td>      <td>1805</td>      <td>10.2</td>      <td>7855</td>      <td>58409</td>    </tr>    <tr>      <th>Richmond</th>      <td>Virginia</td>      <td>1780</td>      <td>60.1</td>      <td>230436</td>      <td>1291900</td>    </tr>    <tr>      <th>Olympia</th>      <td>Washington</td>      <td>1853</td>      <td>16.7</td>      <td>46478</td>      <td>290536</td>    </tr>    <tr>      <th>Charleston</th>      <td>West Virginia</td>      <td>1885</td>      <td>31.6</td>      <td>46536</td>      <td>257074</td>    </tr>    <tr>      <th>Madison</th>      <td>Wisconsin</td>      <td>1838</td>      <td>68.7</td>      <td>259680</td>      <td>664865</td>    </tr>    <tr>      <th>Cheyenne</th>      <td>Wyoming</td>      <td>1869</td>      <td>21.1</td>      <td>64235</td>      <td>99500</td>    </tr>  </tbody></table>'"
      ]
     },
     "execution_count": 12,
     "metadata": {},
     "output_type": "execute_result"
    }
   ],
   "source": [
    "html_table.replace('\\n', '')"
   ]
  },
  {
   "cell_type": "code",
   "execution_count": 13,
   "metadata": {},
   "outputs": [],
   "source": [
    "df.to_html('table.html')"
   ]
  },
  {
   "cell_type": "code",
   "execution_count": 16,
   "metadata": {},
   "outputs": [],
   "source": [
    "df.to_json('capitals.json');"
   ]
  },
  {
   "cell_type": "code",
   "execution_count": null,
   "metadata": {},
   "outputs": [],
   "source": []
  }
 ],
 "metadata": {
  "kernelspec": {
   "display_name": "Python 3",
   "language": "python",
   "name": "python3"
  },
  "language_info": {
   "codemirror_mode": {
    "name": "ipython",
    "version": 3
   },
   "file_extension": ".py",
   "mimetype": "text/x-python",
   "name": "python",
   "nbconvert_exporter": "python",
   "pygments_lexer": "ipython3",
   "version": "3.6.10"
  }
 },
 "nbformat": 4,
 "nbformat_minor": 4
}
